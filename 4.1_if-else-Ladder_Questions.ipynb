{
 "cells": [
  {
   "cell_type": "raw",
   "metadata": {},
   "source": [
    "Read Five marks tamil,english,maths,science and social and if all marks are greater than 35 , print pass else print fail"
   ]
  },
  {
   "cell_type": "code",
   "execution_count": null,
   "metadata": {},
   "outputs": [],
   "source": [
    "Tamil=int(input(\"Enter Tamil Score\"))\n",
    "English=int(input(\"Enter English Score\"))\n",
    "Maths=int(input(\"Enter Maths Score\"))\n",
    "Science=int(input(\"Enter Science Score\"))\n",
    "Social=int(input(\"Enter Social Score\"))\n",
    "if Tamil>35:\n",
    "    if English>=35:\n",
    "        if Maths>=35:\n",
    "            if Science>=35:\n",
    "                if Social>=35:\n",
    "                    print(\"Pass\")\n",
    "                else:\n",
    "                    print(\"Failed in Social\")\n",
    "            else:\n",
    "                print(\"Failed in Science\")\n",
    "        else:\n",
    "            print(\"Failed in Maths\")\n",
    "    else:\n",
    "        print(\"Failed in English\")\n",
    "else:\n",
    "    print(\"Failed in Tamil\")"
   ]
  }
 ],
 "metadata": {
  "kernelspec": {
   "display_name": "Python 3 (ipykernel)",
   "language": "python",
   "name": "python3"
  },
  "language_info": {
   "codemirror_mode": {
    "name": "ipython",
    "version": 3
   },
   "file_extension": ".py",
   "mimetype": "text/x-python",
   "name": "python",
   "nbconvert_exporter": "python",
   "pygments_lexer": "ipython3",
   "version": "3.13.5"
  }
 },
 "nbformat": 4,
 "nbformat_minor": 4
}
