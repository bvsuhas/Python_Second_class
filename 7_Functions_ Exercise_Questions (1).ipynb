{
 "cells": [
  {
   "cell_type": "code",
   "execution_count": 1,
   "metadata": {},
   "outputs": [],
   "source": [
    "# Write a function to hours to minutes , user should able to give hours as input\n",
    "\n",
    "# your Answer\n",
    "\n",
    "def hrstominscalc(x):\n",
    "    y = x*2\n",
    "    print(x,\"hours equals to\",y,\"minutes\")"
   ]
  },
  {
   "cell_type": "code",
   "execution_count": 2,
   "metadata": {},
   "outputs": [
    {
     "name": "stdout",
     "output_type": "stream",
     "text": [
      "2 hours equals to 4 minutes\n"
     ]
    }
   ],
   "source": [
    "hrstominscalc(2)"
   ]
  },
  {
   "cell_type": "code",
   "execution_count": 4,
   "metadata": {},
   "outputs": [],
   "source": [
    "# Write a function to convert centimeter to meter , user shoulb be able to give centimeter as input\n",
    "# your Answer\n",
    "\n",
    "\n",
    "def cm_to_m(a):\n",
    "    b=a/100\n",
    "    print(a, \"centimeter equals to\",b, \"meters\")\n",
    "x=float((input(\"Enter the centimeter: \")))\n",
    "cm_to_m(x)\n",
    "\n",
    "\n",
    "\n",
    "\n"
   ]
  },
  {
   "cell_type": "code",
   "execution_count": 5,
   "metadata": {},
   "outputs": [],
   "source": [
    "# Write a function to convert miles to Kilometer , user shoulb be able to give miles as input\n",
    "\n",
    "# your Answer\n",
    "\n",
    "\n",
    "\n",
    "\n",
    "def miles_to_km(a):\n",
    "    b=a*1.6\n",
    "    print(a, \"miles equals to\",b, \"km\")\n",
    "x=float((input(\"Enter the centimeter: \")))\n",
    "miles_to_km(x)\n",
    "\n",
    "\n"
   ]
  },
  {
   "cell_type": "code",
   "execution_count": 6,
   "metadata": {},
   "outputs": [],
   "source": [
    "# Write a function to convert pounds to Kilogram , user shoulb be able to give pounds as input\n",
    "# your Answer\n",
    "\n",
    "\n",
    "\n",
    "def pounds_to_kg(a):\n",
    "    b=a*0.454\n",
    "    print(a, \"pounds equals to\",b, \"kg\")\n",
    "x=int(input(\"Enter the pounds: \"))\n",
    "pounds_to_kg(x)\n",
    "\n",
    "\n",
    "\n"
   ]
  },
  {
   "cell_type": "code",
   "execution_count": 1,
   "metadata": {},
   "outputs": [
    {
     "name": "stdin",
     "output_type": "stream",
     "text": [
      "Enter the principal amount:  3000\n",
      "Enter the duration:  3\n",
      "Enter the rate of interest:  2\n"
     ]
    },
    {
     "data": {
      "text/plain": [
       "('SI is', 180.0)"
      ]
     },
     "execution_count": 1,
     "metadata": {},
     "output_type": "execute_result"
    }
   ],
   "source": [
    "# Write a function to calculate simple interest # all input shoulb be given by the user\n",
    "# your Answer\n",
    "\n",
    "def SI(p,t,r):\n",
    "    si=p*t*r/100\n",
    "    return(\"Simple intrest is\", si)\n",
    "p=int(input(\"Enter the principal amount: \"))\n",
    "t=int(input(\"Enter the duration: \"))\n",
    "r=float(input(\"Enter the rate of interest: \"))\n",
    "SI(p,t,r)\n",
    "\n",
    "\n",
    "\n",
    "\n",
    "\n"
   ]
  },
  {
   "cell_type": "code",
   "execution_count": 8,
   "metadata": {},
   "outputs": [],
   "source": [
    "# Write a function to calculate area of circle\n",
    "# your Answer\n",
    "\n",
    "\n",
    "\n",
    "a=2.5\n",
    "def area(a):\n",
    "    b=3.14*a*a\n",
    "    print(\"Area of circle is\", b)\n",
    "area(a)\n",
    "\n",
    "\n",
    "\n"
   ]
  },
  {
   "cell_type": "code",
   "execution_count": 9,
   "metadata": {},
   "outputs": [],
   "source": [
    "# Write a function to calculate circumference of circle\n",
    "# your Answer\n",
    "\n",
    "\n",
    "r=5\n",
    "def circumference(a):\n",
    "    b=2*3.14*a\n",
    "    print(\"circumference of circle is\", b)\n",
    "\n",
    "circumference(r)\n",
    "\n",
    "\n",
    "\n",
    "\n"
   ]
  },
  {
   "cell_type": "code",
   "execution_count": 10,
   "metadata": {},
   "outputs": [],
   "source": [
    "# Write a function to calculate perimeter of square\n",
    "# your Answer\n",
    "\n",
    "\n",
    "\n",
    "l=5\n",
    "def perimeter(len):\n",
    "    b=4*len\n",
    "    print(\"perimeter of square is\", b)\n",
    "perimeter(l)\n",
    "\n",
    "\n",
    "\n"
   ]
  },
  {
   "cell_type": "code",
   "execution_count": 11,
   "metadata": {},
   "outputs": [],
   "source": [
    "# Write a fucntion to calculate area of square\n",
    "# your Answer\n",
    "\n",
    "\n",
    "l=5\n",
    "def area(len):\n",
    "    b=len*len\n",
    "    print(\"area of square is\", b)\n",
    "area(l)\n",
    "\n",
    "\n",
    "\n",
    "\n"
   ]
  },
  {
   "cell_type": "code",
   "execution_count": 2,
   "metadata": {},
   "outputs": [
    {
     "name": "stdout",
     "output_type": "stream",
     "text": [
      "area of triangle is 4.0\n"
     ]
    }
   ],
   "source": [
    "# Write a function to area of traingle\n",
    "# your Answer\n",
    "\n",
    "b=2\n",
    "h=4\n",
    "def area(b,h):\n",
    "    a=(b*h)/2\n",
    "    print(\"area of triangle is\", a)\n",
    "\n",
    "area(b,h)\n",
    "\n",
    "\n",
    "\n",
    "\n",
    "\n"
   ]
  },
  {
   "cell_type": "code",
   "execution_count": null,
   "metadata": {},
   "outputs": [],
   "source": []
  }
 ],
 "metadata": {
  "kernelspec": {
   "display_name": "Python 3 (ipykernel)",
   "language": "python",
   "name": "python3"
  },
  "language_info": {
   "codemirror_mode": {
    "name": "ipython",
    "version": 3
   },
   "file_extension": ".py",
   "mimetype": "text/x-python",
   "name": "python",
   "nbconvert_exporter": "python",
   "pygments_lexer": "ipython3",
   "version": "3.13.5"
  }
 },
 "nbformat": 4,
 "nbformat_minor": 4
}
